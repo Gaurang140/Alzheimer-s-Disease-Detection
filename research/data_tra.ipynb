{
 "cells": [
  {
   "cell_type": "code",
   "execution_count": 1,
   "metadata": {},
   "outputs": [
    {
     "data": {
      "text/plain": [
       "'d:\\\\Projects\\\\Alzeimer\\\\Alzheimer-s-Disease-Detection\\\\research'"
      ]
     },
     "execution_count": 1,
     "metadata": {},
     "output_type": "execute_result"
    }
   ],
   "source": [
    "%pwd"
   ]
  },
  {
   "cell_type": "code",
   "execution_count": 3,
   "metadata": {},
   "outputs": [
    {
     "data": {
      "text/plain": [
       "'d:\\\\Projects\\\\Alzeimer\\\\Alzheimer-s-Disease-Detection'"
      ]
     },
     "execution_count": 3,
     "metadata": {},
     "output_type": "execute_result"
    }
   ],
   "source": [
    "import os\n",
    "os.chdir(\"../\")\n",
    "%pwd"
   ]
  },
  {
   "cell_type": "code",
   "execution_count": 5,
   "metadata": {},
   "outputs": [],
   "source": [
    "from dataclasses import dataclass\n",
    "\n",
    "@dataclass\n",
    "class ModelTrainerArtifcats:\n",
    "    model_dir : str \n",
    "\n"
   ]
  },
  {
   "cell_type": "code",
   "execution_count": 6,
   "metadata": {},
   "outputs": [],
   "source": [
    "from alzheimer_disease.entity.config_entity import training_pipeline_config, TrainingPipelineConfig,DataIngestionConfig\n",
    "from alzheimer_disease.constant.training_pipeline import *\n",
    "\n",
    "\n",
    "\n",
    "\n",
    "@dataclass\n",
    "class ModelTrainerConfig:\n",
    "    model_trainer_dir: str = os.path.join(\n",
    "        training_pipeline_config.artifacts_dir, MODEL_TRAINER_DIR_NAME)\n",
    "\n",
    "    model_save: str = os.path.join(model_trainer_dir, MODEL_NAME)\n",
    "    batch_size : int = MODEL_TRAINER_BATCH_SIZE\n",
    "    epochs : int = MODEL_TRAINER_EPOCHS\n",
    "    checkpoint_dir: str = os.path.join(model_trainer_dir, MODEL_CHECKPOINT_DIR_NAME)\n",
    "    image_size: int = IMAGE_SIZE\n",
    "    channels: int = CHANNELS\n",
    "    input_shape: tuple = INPUT_SHAPE\n",
    "    classes: int = CLASSES\n",
    "    validation_split: int = VALIDATION_SPLIT\n",
    "    optimizer: str = OPTIMIZER\n",
    "    loss: str = LOSS\n",
    "    metrics: str = METRICS\n",
    "    patience: int = PATIENCE\n",
    "\n",
    "    \n",
    "\n",
    "  \n"
   ]
  },
  {
   "cell_type": "code",
   "execution_count": null,
   "metadata": {},
   "outputs": [],
   "source": [
    "from alzheimer_disease.entity.artifacts_entity import DataIngestionArtifact\n",
    "from alzheimer_disease.utils.main_utils import create_callbacks, create_datasets\n",
    "from alzheimer_disease.exception import AlzException\n",
    "from alzheimer_disease.logger import logging\n",
    "import tensorflow as tf\n",
    "import sys\n",
    "\n",
    "\n",
    "class ModelTrainer:\n",
    "\n",
    "    def __init__(self, data_ingestion_artifact: DataIngestionArtifact, model_trainer_config: ModelTrainerConfig) -> ModelTrainerArtifcats:\n",
    "        logging.info(f\"{'>>'*20}Model Training{'<<'*20}\")\n",
    "        self.data_ingestion_artifact = data_ingestion_artifact\n",
    "        self.model_trainer_config = model_trainer_config\n",
    "    \n",
    "    def build_model(self, input_shape):\n",
    "        \"\"\"\n",
    "        Build and compile the convolutional neural network model.\n",
    "\n",
    "        Args:\n",
    "            input_shape (tuple): Shape of the input images in the format (height, width, channels).\n",
    "\n",
    "        Returns:\n",
    "            model (tf.keras.Model): Compiled convolutional neural network model.\n",
    "        \"\"\"\n",
    "        model = tf.keras.models.Sequential([\n",
    "            tf.keras.layers.Conv2D(32, kernel_size=(3, 3), activation='relu', input_shape=input_shape),\n",
    "            tf.keras.layers.MaxPool2D((2, 2)),\n",
    "            tf.keras.layers.Conv2D(64, kernel_size=(3, 3), activation='relu'),\n",
    "            tf.keras.layers.MaxPool2D((2, 2)),\n",
    "            tf.keras.layers.Conv2D(128, kernel_size=(3, 3), activation='relu'),\n",
    "            tf.keras.layers.MaxPool2D((2, 2)),\n",
    "            tf.keras.layers.Conv2D(128, kernel_size=(3, 3), activation='relu'),\n",
    "            tf.keras.layers.MaxPool2D((2, 2)),\n",
    "            tf.keras.layers.Conv2D(512, kernel_size=(3, 3), activation='relu'),\n",
    "            tf.keras.layers.MaxPool2D((2, 2)),\n",
    "            tf.keras.layers.Flatten(),\n",
    "            tf.keras.layers.Dense(self.model_trainer_config.classes, activation='softmax')\n",
    "        ])\n",
    "\n",
    "        return model\n",
    "        \n",
    "    def initiate_model_training (self):\n",
    "        logging.info(\"Preparing TensorFlow Dataset for training\")\n",
    "        train, val, test, class_name = create_datasets(self.data_ingestion_artifact.train_path, \n",
    "                                                       self.data_ingestion_artifact.test_path,\n",
    "                                                       image_size=self.model_trainer_config.image_size, \n",
    "                                                       batch_size=self.model_trainer_config.batch_size,\n",
    "                                                       validation_split=self.model_trainer_config.validation_split)\n",
    "        \n",
    "        logging.info(f\"TensorFlow Dataset prepared and has {class_name}\")\n",
    "        \n",
    "        model = self.build_model((self.model_trainer_config.image_size,\n",
    "                                  self.model_trainer_config.image_size,\n",
    "                                  self.model_trainer_config.channels))\n",
    "        \n",
    "        logging.info(\"Convolutional Neural Network Model Built\")\n",
    "        \n",
    "        model.compile(optimizer=self.model_trainer_config.optimizer,\n",
    "                      loss=self.model_trainer_config.loss,\n",
    "                      metrics=self.model_trainer_config.metrics)\n",
    "        \n",
    "        logging.info(\"Convolutional Neural Network Model Compiled\")\n",
    "        \n",
    "        callbacks = create_callbacks(self.model_trainer_config.checkpoint_dir, patience=self.model_trainer_config.patience)\n",
    "        \n",
    "        logging.info(\"Callbacks created\")\n",
    "        \n",
    "        history = model.fit(train,\n",
    "                            validation_data=val,\n",
    "                            epochs=self.model_trainer_config.epochs,\n",
    "                            callbacks=callbacks)\n",
    "        \n",
    "        logging.info(\"Training Completed\")\n",
    "        \n",
    "        model.save(self.model_trainer_config.model_save)\n",
    "        \n",
    "        logging.info(\"Model Saved\")\n",
    "        \n",
    "        model_trainer_artifact = ModelTrainerArtifcats(model=self.model_trainer_config.model_save)\n",
    "        \n",
    "        logging.info(f\"Model Trained Artifact Created: {model_trainer_artifact}\")\n",
    "        \n",
    "        return model_trainer_artifact\n"
   ]
  }
 ],
 "metadata": {
  "kernelspec": {
   "display_name": "Python 3",
   "language": "python",
   "name": "python3"
  },
  "language_info": {
   "codemirror_mode": {
    "name": "ipython",
    "version": 3
   },
   "file_extension": ".py",
   "mimetype": "text/x-python",
   "name": "python",
   "nbconvert_exporter": "python",
   "pygments_lexer": "ipython3",
   "version": "3.8.15"
  },
  "orig_nbformat": 4
 },
 "nbformat": 4,
 "nbformat_minor": 2
}
