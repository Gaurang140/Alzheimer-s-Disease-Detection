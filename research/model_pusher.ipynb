{
 "cells": [
  {
   "cell_type": "code",
   "execution_count": 2,
   "metadata": {},
   "outputs": [],
   "source": [
    "%pwd\n",
    "import os "
   ]
  },
  {
   "cell_type": "code",
   "execution_count": 3,
   "metadata": {},
   "outputs": [
    {
     "data": {
      "text/plain": [
       "'d:\\\\Projects\\\\Alzeimer\\\\Alzheimer-s-Disease-Detection'"
      ]
     },
     "execution_count": 3,
     "metadata": {},
     "output_type": "execute_result"
    }
   ],
   "source": [
    "os.chdir(\"../\")\n",
    "%pwd"
   ]
  },
  {
   "cell_type": "code",
   "execution_count": 4,
   "metadata": {},
   "outputs": [],
   "source": [
    "from dataclasses import dataclass"
   ]
  },
  {
   "cell_type": "code",
   "execution_count": 5,
   "metadata": {},
   "outputs": [],
   "source": [
    "@dataclass\n",
    "class ModelPusherArtifact:\n",
    "    pusher_model_dir:str \n",
    "    saved_model_dir:str"
   ]
  },
  {
   "cell_type": "code",
   "execution_count": 6,
   "metadata": {},
   "outputs": [
    {
     "ename": "NameError",
     "evalue": "name 'training_pipeline_config' is not defined",
     "output_type": "error",
     "traceback": [
      "\u001b[1;31m---------------------------------------------------------------------------\u001b[0m",
      "\u001b[1;31mNameError\u001b[0m                                 Traceback (most recent call last)",
      "Cell \u001b[1;32mIn[6], line 2\u001b[0m\n\u001b[0;32m      1\u001b[0m \u001b[39m@dataclass\u001b[39m\n\u001b[1;32m----> 2\u001b[0m \u001b[39mclass\u001b[39;00m \u001b[39mModelPusherConfig\u001b[39;00m:\n\u001b[0;32m      3\u001b[0m         model_pusher_dir \u001b[39m=\u001b[39m os\u001b[39m.\u001b[39mpath\u001b[39m.\u001b[39mjoin(training_pipeline_config\u001b[39m.\u001b[39martifact_dir , \u001b[39m\"\u001b[39m\u001b[39mmodel_pusher\u001b[39m\u001b[39m\"\u001b[39m)\n\u001b[0;32m      4\u001b[0m         saved_model_dir \u001b[39m=\u001b[39m os\u001b[39m.\u001b[39mpath\u001b[39m.\u001b[39mjoin(\u001b[39m\"\u001b[39m\u001b[39msaved_models\u001b[39m\u001b[39m\"\u001b[39m)\n",
      "Cell \u001b[1;32mIn[6], line 3\u001b[0m, in \u001b[0;36mModelPusherConfig\u001b[1;34m()\u001b[0m\n\u001b[0;32m      1\u001b[0m \u001b[39m@dataclass\u001b[39m\n\u001b[0;32m      2\u001b[0m \u001b[39mclass\u001b[39;00m \u001b[39mModelPusherConfig\u001b[39;00m:\n\u001b[1;32m----> 3\u001b[0m         model_pusher_dir \u001b[39m=\u001b[39m os\u001b[39m.\u001b[39mpath\u001b[39m.\u001b[39mjoin(training_pipeline_config\u001b[39m.\u001b[39martifact_dir , \u001b[39m\"\u001b[39m\u001b[39mmodel_pusher\u001b[39m\u001b[39m\"\u001b[39m)\n\u001b[0;32m      4\u001b[0m         saved_model_dir \u001b[39m=\u001b[39m os\u001b[39m.\u001b[39mpath\u001b[39m.\u001b[39mjoin(\u001b[39m\"\u001b[39m\u001b[39msaved_models\u001b[39m\u001b[39m\"\u001b[39m)\n\u001b[0;32m      5\u001b[0m         pusher_model_dir \u001b[39m=\u001b[39m os\u001b[39m.\u001b[39mpath\u001b[39m.\u001b[39mjoin(model_pusher_dir,\u001b[39m\"\u001b[39m\u001b[39msaved_models\u001b[39m\u001b[39m\"\u001b[39m)\n",
      "\u001b[1;31mNameError\u001b[0m: name 'training_pipeline_config' is not defined"
     ]
    }
   ],
   "source": [
    "@dataclass\n",
    "class ModelPusherConfig:\n",
    "        model_pusher_dir = os.path.join(training_pipeline_config.artifact_dir , \"model_pusher\")\n",
    "        saved_model_dir = os.path.join(\"saved_models\")\n",
    "        pusher_model_dir = os.path.join(model_pusher_dir,\"saved_models\")\n",
    "        pusher_model_path = os.path.join(pusher_model_dir,MODEL_FILE_NAME)\n",
    "        \n",
    "        "
   ]
  },
  {
   "cell_type": "code",
   "execution_count": null,
   "metadata": {},
   "outputs": [],
   "source": [
    "\n",
    "from dataclasses import dataclass\n",
    "from alzheimer_disease.entity import artifacts_entity \n",
    "from alzheimer_disease.entity import config_entity\n",
    "from alzheimer_disease.exception import AlzException\n",
    "from alzheimer_disease.logger import logging \n",
    "from alzheimer_disease.config import ModelManager\n",
    "from alzheimer_disease.utils.main_utils import load_object,save_object\n",
    "import sys \n",
    "import shutil\n",
    "\n",
    "class ModelPusher:\n",
    "\n",
    "    def __init__(self,model_pusher_config:ModelPusherConfig,\n",
    "    model_trainer_artifact:artifacts_entity.ModelTrainerArtifcats):\n",
    "        try:\n",
    "            logging.info(f\"{'>>'*20} Data Transformation {'<<'*20}\")\n",
    "            self.model_pusher_config=model_pusher_config\n",
    "            self.model_trainer_artifact=model_trainer_artifact\n",
    "            self.model_resolver = ModelManager(model_registry=self.model_pusher_config.saved_model_dir)\n",
    "        except Exception as e:\n",
    "            raise AlzException(e, sys)\n",
    "\n",
    "    def initiate_model_pusher(self,)->ModelPusherArtifact:\n",
    "        try:\n",
    "            #load object\n",
    "            logging.info(f\"Loading transformer model and target encoder\")\n",
    "        \n",
    "            model = load_object(file_path=self.model_trainer_artifact.model_dir)\n",
    "           \n",
    "\n",
    "            #model pusher dir\n",
    "            logging.info(f\"Saving model into model pusher directory\")\n",
    "       \n",
    "            save_object(file_path=self.model_pusher_config.pusher_model_path, obj=model)\n",
    "           \n",
    "            \n",
    "    \n",
    "\n",
    "\n",
    "            #saved model dir\n",
    "            logging.info(f\"Saving model in saved model dir\")\n",
    "         \n",
    "            model_path=self.model_resolver.get_latest_save_model_path()\n",
    "         \n",
    "\n",
    "            save_object(file_path=model_path, obj=model)\n",
    "            \n",
    "\n",
    "            model_pusher_artifact = ModelPusherArtifact(pusher_model_dir=self.model_pusher_config.pusher_model_dir,\n",
    "             saved_model_dir=self.model_pusher_config.saved_model_dir)\n",
    "            logging.info(f\"Model pusher artifact: {model_pusher_artifact}\")\n",
    "            return model_pusher_artifact\n",
    "        except Exception as e:\n",
    "            raise AlzException(e, sys)\n",
    "\n",
    "\n",
    "        \n",
    "\n",
    "\n",
    "\n",
    "\n"
   ]
  }
 ],
 "metadata": {
  "kernelspec": {
   "display_name": "Python 3",
   "language": "python",
   "name": "python3"
  },
  "language_info": {
   "codemirror_mode": {
    "name": "ipython",
    "version": 3
   },
   "file_extension": ".py",
   "mimetype": "text/x-python",
   "name": "python",
   "nbconvert_exporter": "python",
   "pygments_lexer": "ipython3",
   "version": "3.8.0"
  },
  "orig_nbformat": 4
 },
 "nbformat": 4,
 "nbformat_minor": 2
}
