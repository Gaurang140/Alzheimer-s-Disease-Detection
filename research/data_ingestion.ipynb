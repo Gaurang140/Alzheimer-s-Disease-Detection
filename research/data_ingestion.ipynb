{
 "cells": [
  {
   "cell_type": "code",
   "execution_count": 1,
   "metadata": {},
   "outputs": [],
   "source": [
    "import os \n",
    "from dataclasses import dataclass\n",
    "\n",
    "\n"
   ]
  },
  {
   "cell_type": "code",
   "execution_count": 2,
   "metadata": {},
   "outputs": [],
   "source": [
    "%pwd\n",
    "os.chdir(\"../\")"
   ]
  },
  {
   "cell_type": "code",
   "execution_count": 3,
   "metadata": {},
   "outputs": [
    {
     "data": {
      "text/plain": [
       "'d:\\\\Projects\\\\Alzeimer\\\\Alzheimer-s-Disease-Detection'"
      ]
     },
     "execution_count": 3,
     "metadata": {},
     "output_type": "execute_result"
    }
   ],
   "source": [
    "%pwd"
   ]
  },
  {
   "cell_type": "code",
   "execution_count": 4,
   "metadata": {},
   "outputs": [],
   "source": [
    "from dataclasses import dataclass\n",
    "from pathlib import Path"
   ]
  },
  {
   "cell_type": "code",
   "execution_count": 9,
   "metadata": {},
   "outputs": [],
   "source": [
    "# artifacts entity \n",
    "@dataclass\n",
    "class DataIngestionArtifact:\n",
    "    train_path:str\n",
    "    test_path:str\n",
    "    "
   ]
  },
  {
   "cell_type": "code",
   "execution_count": 10,
   "metadata": {},
   "outputs": [],
   "source": [
    "import os\n",
    "from dataclasses import dataclass\n",
    "from datetime import datetime\n",
    "from alzheimer_disease.constant.training_pipeline import *\n",
    "\n",
    "\n",
    "\n",
    "TIMESTAMP: str = datetime.now().strftime(\"%m_%d_%Y_%H_%M_%S\")\n",
    "\n",
    "@dataclass\n",
    "class TrainingPipelineConfig:\n",
    "    artifacts_dir: str = os.path.join(ARTIFACTS_DIR,TIMESTAMP)\n",
    "\n",
    "training_pipeline_config:TrainingPipelineConfig = TrainingPipelineConfig() \n",
    "\n",
    "\n",
    "\n",
    "\n",
    "@dataclass\n",
    "class DataIngestionConfig:\n",
    "    data_ingestion_dir: str = os.path.join(\n",
    "        training_pipeline_config.artifacts_dir, DATA_INGESTION_DIR_NAME\n",
    "    )\n",
    "\n",
    "    feature_store_file_path: str = os.path.join(\n",
    "        data_ingestion_dir, DATA_INGESTION_FEATURE_STORE_DIR\n",
    "    )\n",
    "\n",
    "    database_name : str = DATA_BASE_NAME\n",
    "    train_collection_name : str = TRAIN_COLLECTION_NAME\n",
    "    test_collection_name : str = TEST_COLLECTION_NAME\n",
    "    \n",
    "    \n",
    "\n",
    "    \n",
    "\n",
    "\n",
    "\n",
    "\n",
    "\n",
    "  \n"
   ]
  },
  {
   "cell_type": "code",
   "execution_count": 12,
   "metadata": {},
   "outputs": [],
   "source": [
    "from alzheimer_disease.exception import AlzException\n",
    "from alzheimer_disease.utils.main_utils import get_data_from_mongodb\n",
    "from alzheimer_disease.logger import logging\n",
    "import sys\n",
    "\n",
    "class DataIngestion:\n",
    "    \n",
    "    def __init__(self,data_ingestion_config:DataIngestionConfig ):\n",
    "        try:\n",
    "            logging.info(f\"{'>>'*20} Data Ingestion {'<<'*20}\")\n",
    "            self.data_ingestion_config = data_ingestion_config\n",
    "        except Exception as e:\n",
    "            raise AlzException(e, sys)\n",
    "\n",
    "    def initiate_data_ingestion(self)->DataIngestionArtifact:\n",
    "        try:\n",
    "            logging.info(f\"Collecting data from mongodb...\")\n",
    "\n",
    "            feature_store_dir = os.path.dirname(self.data_ingestion_config.feature_store_file_path)\n",
    "            logging.info(\"Create feature store folder if not available\")\n",
    "            os.makedirs(feature_store_dir,exist_ok=True)\n",
    "\n",
    "            logging.info(\"Save data to feature store folder\")\n",
    "            train_path, test_path = get_data_from_mongodb(output_folder_path=feature_store_dir,\n",
    "                                  database_name=self.data_ingestion_config.database_name,\n",
    "                                  train_collection_name=self.data_ingestion_config.train_collection_name,\n",
    "                                  test_collection_name=self.data_ingestion_config.test_collection_name)\n",
    "\n",
    "\n",
    "\n",
    "           \n",
    "            data_ingestion_artifact = DataIngestionArtifact(train_path=train_path , test_path=test_path)\n",
    "            \n",
    "            logging.info(f\"Data ingestion artifact: {data_ingestion_artifact}\")\n",
    "            return data_ingestion_artifact\n",
    "\n",
    "        except Exception as e:\n",
    "            raise AlzException(e,sys)"
   ]
  },
  {
   "cell_type": "code",
   "execution_count": 13,
   "metadata": {},
   "outputs": [],
   "source": [
    "\n",
    "try :\n",
    "    #data ingestion\n",
    "    training_pipeline_config = TrainingPipelineConfig()\n",
    "    data_ingestion_config  = DataIngestionConfig()\n",
    "\n",
    "    # Usage example\n",
    "\n",
    "    data_ingestion = DataIngestion(data_ingestion_config=data_ingestion_config)\n",
    "    data_ingestion_artifact = data_ingestion.initiate_data_ingestion()\n",
    "\n",
    "except Exception as e:\n",
    "    raise AlzException(e,sys)\n"
   ]
  },
  {
   "cell_type": "code",
   "execution_count": null,
   "metadata": {},
   "outputs": [],
   "source": [
    "\n",
    "\n"
   ]
  },
  {
   "cell_type": "code",
   "execution_count": null,
   "metadata": {},
   "outputs": [],
   "source": []
  },
  {
   "cell_type": "code",
   "execution_count": null,
   "metadata": {},
   "outputs": [],
   "source": []
  },
  {
   "cell_type": "code",
   "execution_count": null,
   "metadata": {},
   "outputs": [],
   "source": []
  },
  {
   "cell_type": "code",
   "execution_count": null,
   "metadata": {},
   "outputs": [],
   "source": []
  },
  {
   "cell_type": "code",
   "execution_count": null,
   "metadata": {},
   "outputs": [],
   "source": []
  },
  {
   "cell_type": "code",
   "execution_count": null,
   "metadata": {},
   "outputs": [],
   "source": []
  },
  {
   "cell_type": "code",
   "execution_count": null,
   "metadata": {},
   "outputs": [],
   "source": []
  },
  {
   "cell_type": "code",
   "execution_count": null,
   "metadata": {},
   "outputs": [],
   "source": []
  },
  {
   "cell_type": "code",
   "execution_count": null,
   "metadata": {},
   "outputs": [],
   "source": []
  },
  {
   "cell_type": "code",
   "execution_count": null,
   "metadata": {},
   "outputs": [],
   "source": []
  },
  {
   "cell_type": "code",
   "execution_count": null,
   "metadata": {},
   "outputs": [],
   "source": []
  },
  {
   "cell_type": "code",
   "execution_count": null,
   "metadata": {},
   "outputs": [],
   "source": []
  },
  {
   "cell_type": "code",
   "execution_count": null,
   "metadata": {},
   "outputs": [],
   "source": []
  },
  {
   "cell_type": "code",
   "execution_count": null,
   "metadata": {},
   "outputs": [],
   "source": []
  },
  {
   "cell_type": "code",
   "execution_count": null,
   "metadata": {},
   "outputs": [],
   "source": []
  },
  {
   "cell_type": "code",
   "execution_count": null,
   "metadata": {},
   "outputs": [],
   "source": []
  },
  {
   "cell_type": "code",
   "execution_count": null,
   "metadata": {},
   "outputs": [],
   "source": []
  },
  {
   "cell_type": "code",
   "execution_count": null,
   "metadata": {},
   "outputs": [],
   "source": []
  },
  {
   "cell_type": "code",
   "execution_count": null,
   "metadata": {},
   "outputs": [],
   "source": []
  },
  {
   "cell_type": "code",
   "execution_count": null,
   "metadata": {},
   "outputs": [],
   "source": []
  },
  {
   "cell_type": "code",
   "execution_count": null,
   "metadata": {},
   "outputs": [],
   "source": []
  },
  {
   "cell_type": "code",
   "execution_count": null,
   "metadata": {},
   "outputs": [],
   "source": []
  },
  {
   "cell_type": "code",
   "execution_count": null,
   "metadata": {},
   "outputs": [],
   "source": []
  },
  {
   "cell_type": "code",
   "execution_count": null,
   "metadata": {},
   "outputs": [],
   "source": []
  },
  {
   "cell_type": "code",
   "execution_count": null,
   "metadata": {},
   "outputs": [],
   "source": []
  },
  {
   "cell_type": "code",
   "execution_count": null,
   "metadata": {},
   "outputs": [],
   "source": []
  },
  {
   "cell_type": "code",
   "execution_count": null,
   "metadata": {},
   "outputs": [],
   "source": []
  },
  {
   "cell_type": "code",
   "execution_count": null,
   "metadata": {},
   "outputs": [],
   "source": []
  },
  {
   "cell_type": "code",
   "execution_count": null,
   "metadata": {},
   "outputs": [],
   "source": []
  },
  {
   "cell_type": "code",
   "execution_count": null,
   "metadata": {},
   "outputs": [],
   "source": []
  },
  {
   "cell_type": "code",
   "execution_count": null,
   "metadata": {},
   "outputs": [],
   "source": []
  },
  {
   "cell_type": "code",
   "execution_count": null,
   "metadata": {},
   "outputs": [],
   "source": []
  },
  {
   "cell_type": "code",
   "execution_count": null,
   "metadata": {},
   "outputs": [],
   "source": []
  },
  {
   "cell_type": "code",
   "execution_count": null,
   "metadata": {},
   "outputs": [],
   "source": []
  },
  {
   "cell_type": "code",
   "execution_count": null,
   "metadata": {},
   "outputs": [],
   "source": []
  }
 ],
 "metadata": {
  "kernelspec": {
   "display_name": "Python 3",
   "language": "python",
   "name": "python3"
  },
  "language_info": {
   "codemirror_mode": {
    "name": "ipython",
    "version": 3
   },
   "file_extension": ".py",
   "mimetype": "text/x-python",
   "name": "python",
   "nbconvert_exporter": "python",
   "pygments_lexer": "ipython3",
   "version": "3.8.0"
  },
  "orig_nbformat": 4
 },
 "nbformat": 4,
 "nbformat_minor": 2
}
