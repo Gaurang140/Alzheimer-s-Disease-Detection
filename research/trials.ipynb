{
 "cells": [
  {
   "cell_type": "code",
   "execution_count": 1,
   "metadata": {},
   "outputs": [],
   "source": [
    "import json"
   ]
  },
  {
   "cell_type": "code",
   "execution_count": null,
   "metadata": {},
   "outputs": [],
   "source": []
  },
  {
   "cell_type": "code",
   "execution_count": 7,
   "metadata": {},
   "outputs": [],
   "source": []
  },
  {
   "cell_type": "code",
   "execution_count": 8,
   "metadata": {},
   "outputs": [
    {
     "data": {
      "text/plain": [
       "{'MildDemented': {'precision': 0.0,\n",
       "  'recall': 0.0,\n",
       "  'f1-score': 0.0,\n",
       "  'support': 179},\n",
       " 'ModerateDemented': {'precision': 0.0,\n",
       "  'recall': 0.0,\n",
       "  'f1-score': 0.0,\n",
       "  'support': 12},\n",
       " 'NonDemented': {'precision': 0.5109060402684564,\n",
       "  'recall': 0.9515625,\n",
       "  'f1-score': 0.6648471615720524,\n",
       "  'support': 640},\n",
       " 'VeryMildDemented': {'precision': 0.42528735632183906,\n",
       "  'recall': 0.08258928571428571,\n",
       "  'f1-score': 0.1383177570093458,\n",
       "  'support': 448},\n",
       " 'accuracy': 0.5050820953870211,\n",
       " 'macro avg': {'precision': 0.2340483491475739,\n",
       "  'recall': 0.2585379464285714,\n",
       "  'f1-score': 0.20079122964534954,\n",
       "  'support': 1279},\n",
       " 'weighted avg': {'precision': 0.40461970399061453,\n",
       "  'recall': 0.5050820953870211,\n",
       "  'f1-score': 0.3811325555483194,\n",
       "  'support': 1279}}"
      ]
     },
     "execution_count": 8,
     "metadata": {},
     "output_type": "execute_result"
    }
   ],
   "source": [
    "training_result\n"
   ]
  },
  {
   "cell_type": "code",
   "execution_count": null,
   "metadata": {},
   "outputs": [],
   "source": []
  }
 ],
 "metadata": {
  "kernelspec": {
   "display_name": "Python 3",
   "language": "python",
   "name": "python3"
  },
  "language_info": {
   "codemirror_mode": {
    "name": "ipython",
    "version": 3
   },
   "file_extension": ".py",
   "mimetype": "text/x-python",
   "name": "python",
   "nbconvert_exporter": "python",
   "pygments_lexer": "ipython3",
   "version": "3.8.15"
  },
  "orig_nbformat": 4
 },
 "nbformat": 4,
 "nbformat_minor": 2
}
