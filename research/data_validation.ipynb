{
 "cells": [
  {
   "cell_type": "code",
   "execution_count": 1,
   "metadata": {},
   "outputs": [],
   "source": [
    "import os "
   ]
  },
  {
   "cell_type": "code",
   "execution_count": 2,
   "metadata": {},
   "outputs": [],
   "source": [
    "%pwd\n",
    "os.chdir(\"../\")"
   ]
  },
  {
   "cell_type": "code",
   "execution_count": 3,
   "metadata": {},
   "outputs": [
    {
     "data": {
      "text/plain": [
       "'d:\\\\Projects\\\\Alzeimer\\\\Alzheimer-s-Disease-Detection'"
      ]
     },
     "execution_count": 3,
     "metadata": {},
     "output_type": "execute_result"
    }
   ],
   "source": [
    "%pwd"
   ]
  },
  {
   "cell_type": "code",
   "execution_count": 4,
   "metadata": {},
   "outputs": [],
   "source": [
    "# data validatin \n",
    "import  tensorflow as tf \n",
    "from dataclasses import dataclass\n",
    "\n",
    "\n",
    "\n",
    "@dataclass\n",
    "class DataValidationArtifact:\n",
    "    validation_status: bool"
   ]
  },
  {
   "cell_type": "code",
   "execution_count": 5,
   "metadata": {},
   "outputs": [],
   "source": [
    "from alzheimer_disease.entity.config_entity import training_pipeline_config, TrainingPipelineConfig,DataIngestionConfig\n",
    "from alzheimer_disease.constant.training_pipeline import *\n",
    "\n",
    "@dataclass\n",
    "class DataValidationConfig:\n",
    "    data_validation_dir: str = os.path.join(\n",
    "        training_pipeline_config.artifacts_dir, DATA_VALIDATION_DIR_NAME\n",
    "    )\n",
    "\n",
    "    valid_status_file_dir: str = os.path.join(data_validation_dir, DATA_VALIDATION_STATUS_FILE)\n",
    "\n",
    "    required_file_list = DATA_VALIDATION_ALL_REQUIRED_FILES\n"
   ]
  },
  {
   "cell_type": "code",
   "execution_count": 10,
   "metadata": {},
   "outputs": [],
   "source": [
    "from alzheimer_disease.entity.artifacts_entity import DataIngestionArtifact\n",
    "from alzheimer_disease.exception import AlzException\n",
    "from alzheimer_disease.logger import logging \n",
    "import sys \n",
    "import shutil\n",
    "\n",
    "\n",
    "\n",
    "class DataValidation:\n",
    "    def __init__(self, data_ingestion_artifact:DataIngestionArtifact,\n",
    "                 data_validation_config:DataValidationConfig):\n",
    "        logging.info(f\"{'>>'*20} Data Validation{'<<'*20}\")\n",
    "        \n",
    "        try:\n",
    "            self.data_ingestion_artifact = data_ingestion_artifact\n",
    "            self.data_validation_config = data_validation_config\n",
    "        except Exception as e:\n",
    "            raise AlzException(e,sys)\n",
    "        \n",
    "    import os\n",
    "\n",
    "    def validate_data(self) -> bool:\n",
    "        try:\n",
    "            train_folder_path = self.data_ingestion_artifact.train_path\n",
    "            test_folder_path = self.data_ingestion_artifact.test_path\n",
    "\n",
    "            train_folder_exists = os.path.exists(train_folder_path)\n",
    "            test_folder_exists = os.path.exists(test_folder_path)\n",
    "\n",
    "            validation_status = train_folder_exists and test_folder_exists\n",
    "\n",
    "            os.makedirs(self.data_validation_config.data_validation_dir, exist_ok=True)\n",
    "            with open(self.data_validation_config.valid_status_file_dir, 'w') as f:\n",
    "                f.write(f\"validation_status: {validation_status}\\n\")\n",
    "\n",
    "            return validation_status\n",
    "        except Exception as e:\n",
    "            raise AlzException(e, sys)\n",
    "\n",
    "        \n",
    "\n",
    "    def initialte_data_validation (self)->DataValidationArtifact:\n",
    "        logging.info(\"Entered initiate_data_validation method of DataValidation class\")\n",
    "\n",
    "        try :\n",
    "\n",
    "            status = self.validate_data()\n",
    "\n",
    "            data_validation_artifact = DataValidationArtifact(validation_status=status)\n",
    "\n",
    "            logging.info(\"Exited data_validation method of DataValidation class\")\n",
    "            logging.info(\"data_validation_artifact: {}\".format(data_validation_artifact))\n",
    "\n",
    "    \n",
    "            return data_validation_artifact\n",
    "        except Exception as e:\n",
    "            raise AlzException(e,sys)\n",
    "\n",
    "                \n",
    "\n",
    "\n"
   ]
  },
  {
   "cell_type": "code",
   "execution_count": 11,
   "metadata": {},
   "outputs": [],
   "source": [
    "from alzheimer_disease.entity.artifacts_entity import DataIngestionArtifact\n",
    "from alzheimer_disease.entity.config_entity import DataIngestionConfig,TrainingPipelineConfig\n",
    "from alzheimer_disease.components.data_ingestion import DataIngestion\n",
    "from alzheimer_disease.exception import AlzException\n",
    "import sys\n",
    "\n",
    "\n",
    "\n"
   ]
  },
  {
   "cell_type": "code",
   "execution_count": 12,
   "metadata": {},
   "outputs": [],
   "source": [
    "import os\n",
    "\n",
    "current_directory = os.getcwd()  # Get the current working directory\n",
    "\n",
    "try:\n",
    "    train_path = os.path.join(current_directory, \"artifacts\", \"06_25_2023_19_47_18\", \"data_ingestion\", \"train\")\n",
    "    test_path = os.path.join(current_directory, \"artifacts\", \"06_25_2023_19_47_18\", \"data_ingestion\", \"test\")\n",
    "\n",
    "    data_ingestion_artifact = DataIngestionArtifact(train_path=train_path, test_path=test_path)\n",
    "\n",
    "    data_validation_config = DataValidationConfig()\n",
    "    data_validation = DataValidation(data_validation_config=data_validation_config, data_ingestion_artifact=data_ingestion_artifact)\n",
    "\n",
    "    data_validation_artifact = data_validation.initialte_data_validation()\n",
    "except Exception as e:\n",
    "    raise AlzException(e, sys)\n"
   ]
  },
  {
   "cell_type": "code",
   "execution_count": 13,
   "metadata": {},
   "outputs": [
    {
     "ename": "FileNotFoundError",
     "evalue": "[WinError 3] The system cannot find the path specified: 'd:\\\\Projects\\\\Alzeimer\\\\Alzheimer-s-Disease-Detection\\\\artifacts\\\\06_25_2023_19_47_18\\\\data_ingestion\\\\train'",
     "output_type": "error",
     "traceback": [
      "\u001b[1;31m---------------------------------------------------------------------------\u001b[0m",
      "\u001b[1;31mFileNotFoundError\u001b[0m                         Traceback (most recent call last)",
      "Cell \u001b[1;32mIn[13], line 1\u001b[0m\n\u001b[1;32m----> 1\u001b[0m train_files \u001b[39m=\u001b[39m os\u001b[39m.\u001b[39;49mlistdir(data_ingestion_artifact\u001b[39m.\u001b[39;49mtrain_path)\n",
      "\u001b[1;31mFileNotFoundError\u001b[0m: [WinError 3] The system cannot find the path specified: 'd:\\\\Projects\\\\Alzeimer\\\\Alzheimer-s-Disease-Detection\\\\artifacts\\\\06_25_2023_19_47_18\\\\data_ingestion\\\\train'"
     ]
    }
   ],
   "source": []
  },
  {
   "cell_type": "code",
   "execution_count": null,
   "metadata": {},
   "outputs": [],
   "source": []
  }
 ],
 "metadata": {
  "kernelspec": {
   "display_name": "Python 3",
   "language": "python",
   "name": "python3"
  },
  "language_info": {
   "codemirror_mode": {
    "name": "ipython",
    "version": 3
   },
   "file_extension": ".py",
   "mimetype": "text/x-python",
   "name": "python",
   "nbconvert_exporter": "python",
   "pygments_lexer": "ipython3",
   "version": "3.8.0"
  },
  "orig_nbformat": 4
 },
 "nbformat": 4,
 "nbformat_minor": 2
}
