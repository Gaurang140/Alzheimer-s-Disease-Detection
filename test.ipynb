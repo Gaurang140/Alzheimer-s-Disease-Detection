{
 "cells": [
  {
   "cell_type": "code",
   "execution_count": 7,
   "metadata": {},
   "outputs": [],
   "source": [
    "image_path = r\"D:\\Internship_Project\\Alzeimer_Diasis_Project\\ALZ_Project_Code\\Data\\Alzheimers-ADNI\\test\\Final AD JPEG\""
   ]
  },
  {
   "cell_type": "code",
   "execution_count": 8,
   "metadata": {},
   "outputs": [
    {
     "data": {
      "text/plain": [
       "'D:\\\\Internship_Project\\\\Alzeimer_Diasis_Project\\\\ALZ_Project_Code\\\\Data\\\\Alzheimers-ADNI\\\\test\\\\Final AD JPEG'"
      ]
     },
     "execution_count": 8,
     "metadata": {},
     "output_type": "execute_result"
    }
   ],
   "source": [
    "import os\n",
    "from pymongo import MongoClient\n",
    "from bson.binary import Binary\n",
    "\n",
    "# Connect to MongoDB server\n",
    "client = MongoClient(\"<connection_string>\")\n",
    "db = client.get_database(\"your_database_name\")\n",
    "\n",
    "data_folder_path = \"/path/to/data/folder\"\n",
    "\n",
    "# Iterate over class folders\n",
    "for class_folder in os.listdir(data_folder_path):\n",
    "    class_folder_path = os.path.join(data_folder_path, class_folder)\n",
    "\n",
    "    # Iterate over image files in class folder\n",
    "    for image_file in os.listdir(class_folder_path):\n",
    "        image_file_path = os.path.join(class_folder_path, image_file)\n",
    "\n",
    "        # Open and encode the image\n",
    "        with open(image_file_path, \"rb\") as file:\n",
    "            image_data = file.read()\n",
    "            encoded_image = Binary(image_data)\n",
    "\n",
    "        # Create a document with class label and encoded image\n",
    "        document = {\n",
    "            \"class_label\": class_folder,\n",
    "            \"image\": encoded_image\n",
    "        }\n",
    "\n",
    "        # Store the document in a collection\n",
    "        image_collection = db.get_collection(\"your_collection_name\")\n",
    "        image_collection.insert_one(document)\n"
   ]
  },
  {
   "cell_type": "code",
   "execution_count": 12,
   "metadata": {},
   "outputs": [
    {
     "data": {
      "text/plain": [
       "'d:\\\\Projects\\\\Alzeimer\\\\Alzheimer-s-Disease-Detection'"
      ]
     },
     "execution_count": 12,
     "metadata": {},
     "output_type": "execute_result"
    }
   ],
   "source": [
    "%pwd"
   ]
  },
  {
   "cell_type": "code",
   "execution_count": null,
   "metadata": {},
   "outputs": [],
   "source": []
  },
  {
   "cell_type": "code",
   "execution_count": 6,
   "metadata": {},
   "outputs": [],
   "source": [
    "\n"
   ]
  },
  {
   "cell_type": "code",
   "execution_count": null,
   "metadata": {},
   "outputs": [],
   "source": []
  }
 ],
 "metadata": {
  "kernelspec": {
   "display_name": "Python 3",
   "language": "python",
   "name": "python3"
  },
  "language_info": {
   "codemirror_mode": {
    "name": "ipython",
    "version": 3
   },
   "file_extension": ".py",
   "mimetype": "text/x-python",
   "name": "python",
   "nbconvert_exporter": "python",
   "pygments_lexer": "ipython3",
   "version": "3.8.0"
  },
  "orig_nbformat": 4
 },
 "nbformat": 4,
 "nbformat_minor": 2
}
