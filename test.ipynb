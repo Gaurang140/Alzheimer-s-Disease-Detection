{
 "cells": [
  {
   "cell_type": "code",
   "execution_count": 7,
   "metadata": {},
   "outputs": [],
   "source": [
    "image_path = r\"D:\\Internship_Project\\Alzeimer_Diasis_Project\\ALZ_Project_Code\\Data\\Alzheimers-ADNI\\test\\Final AD JPEG\""
   ]
  },
  {
   "cell_type": "code",
   "execution_count": 8,
   "metadata": {},
   "outputs": [
    {
     "data": {
      "text/plain": [
       "'D:\\\\Internship_Project\\\\Alzeimer_Diasis_Project\\\\ALZ_Project_Code\\\\Data\\\\Alzheimers-ADNI\\\\test\\\\Final AD JPEG'"
      ]
     },
     "execution_count": 8,
     "metadata": {},
     "output_type": "execute_result"
    }
   ],
   "source": [
    "import os\n",
    "from pymongo import MongoClient\n",
    "from bson.binary import Binary\n",
    "\n",
    "# Connect to MongoDB server\n",
    "client = MongoClient(\"<connection_string>\")\n",
    "db = client.get_database(\"your_database_name\")\n",
    "\n",
    "data_folder_path = \"/path/to/data/folder\"\n",
    "\n",
    "# Iterate over class folders\n",
    "for class_folder in os.listdir(data_folder_path):\n",
    "    class_folder_path = os.path.join(data_folder_path, class_folder)\n",
    "\n",
    "    # Iterate over image files in class folder\n",
    "    for image_file in os.listdir(class_folder_path):\n",
    "        image_file_path = os.path.join(class_folder_path, image_file)\n",
    "\n",
    "        # Open and encode the image\n",
    "        with open(image_file_path, \"rb\") as file:\n",
    "            image_data = file.read()\n",
    "            encoded_image = Binary(image_data)\n",
    "\n",
    "        # Create a document with class label and encoded image\n",
    "        document = {\n",
    "            \"class_label\": class_folder,\n",
    "            \"image\": encoded_image\n",
    "        }\n",
    "\n",
    "        # Store the document in a collection\n",
    "        image_collection = db.get_collection(\"your_collection_name\")\n",
    "        image_collection.insert_one(document)\n"
   ]
  },
  {
   "cell_type": "code",
   "execution_count": 12,
   "metadata": {},
   "outputs": [
    {
     "data": {
      "text/plain": [
       "'d:\\\\Projects\\\\Alzeimer\\\\Alzheimer-s-Disease-Detection'"
      ]
     },
     "execution_count": 12,
     "metadata": {},
     "output_type": "execute_result"
    }
   ],
   "source": [
    "%pwd"
   ]
  },
  {
   "cell_type": "code",
   "execution_count": null,
   "metadata": {},
   "outputs": [],
   "source": []
  },
  {
   "cell_type": "code",
   "execution_count": 5,
   "metadata": {},
   "outputs": [
    {
     "ename": "TypeError",
     "evalue": "get_data_from_mongodb() got an unexpected keyword argument 'data_folder_path'",
     "output_type": "error",
     "traceback": [
      "\u001b[1;31m---------------------------------------------------------------------------\u001b[0m",
      "\u001b[1;31mTypeError\u001b[0m                                 Traceback (most recent call last)",
      "Cell \u001b[1;32mIn[5], line 21\u001b[0m\n\u001b[0;32m     18\u001b[0m data_folder_path \u001b[39m=\u001b[39mos\u001b[39m.\u001b[39mpath\u001b[39m.\u001b[39mjoin(\u001b[39m\"\u001b[39m\u001b[39mdata\u001b[39m\u001b[39m\"\u001b[39m)\n\u001b[0;32m     19\u001b[0m collection_name \u001b[39m=\u001b[39m \u001b[39m\"\u001b[39m\u001b[39mcollection_name\u001b[39m\u001b[39m\"\u001b[39m\n\u001b[1;32m---> 21\u001b[0m get_data_from_mongodb(uri\u001b[39m=\u001b[39;49muri , database_name\u001b[39m=\u001b[39;49mdatabase_name, data_folder_path\u001b[39m=\u001b[39;49mdata_folder_path)\n",
      "\u001b[1;31mTypeError\u001b[0m: get_data_from_mongodb() got an unexpected keyword argument 'data_folder_path'"
     ]
    }
   ],
   "source": [
    "from alzheimer_disease.utils.main_utils import get_data_from_mongodb \n",
    "\n",
    "\n",
    "import os\n",
    "from pymongo import MongoClient\n",
    "from bson.binary import Binary\n",
    "from dotenv import load_dotenv\n",
    "from pathlib import Path\n",
    "from src.alzheimer_disease.utils.main_utils import dump_data_to_mongodb\n",
    "load_dotenv()\n",
    "\n",
    "# Load environment variables from .env file\n",
    "load_dotenv()\n",
    "\n",
    "# Get the MongoDB connection URI from the environment variable\n",
    "uri = os.getenv(\"uri\")\n",
    "database_name = \"alzeimer_database-1\"\n",
    "data_folder_path =os.path.join(\"data\")\n",
    "collection_name = \"collection_name\"\n",
    "\n",
    "get_data_from_mongodb(uri=uri , database_name=database_name,collection_name=collection_name , output_folder_path=data_folder_path)\n",
    "\n",
    "get_data_from_mongodb()"
   ]
  },
  {
   "cell_type": "code",
   "execution_count": null,
   "metadata": {},
   "outputs": [],
   "source": []
  }
 ],
 "metadata": {
  "kernelspec": {
   "display_name": "Python 3",
   "language": "python",
   "name": "python3"
  },
  "language_info": {
   "codemirror_mode": {
    "name": "ipython",
    "version": 3
   },
   "file_extension": ".py",
   "mimetype": "text/x-python",
   "name": "python",
   "nbconvert_exporter": "python",
   "pygments_lexer": "ipython3",
   "version": "3.8.0"
  },
  "orig_nbformat": 4
 },
 "nbformat": 4,
 "nbformat_minor": 2
}
